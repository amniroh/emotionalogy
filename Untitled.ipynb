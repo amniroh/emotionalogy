{
 "cells": [
  {
   "cell_type": "code",
   "execution_count": 34,
   "metadata": {},
   "outputs": [],
   "source": [
    "import json\n",
    "from tweets_new import smileys\n",
    "from collections import defaultdict"
   ]
  },
  {
   "cell_type": "code",
   "execution_count": 47,
   "metadata": {},
   "outputs": [
    {
     "name": "stdout",
     "output_type": "stream",
     "text": [
      "fear\n",
      "happy\n",
      "anger\n",
      "sad\n",
      "tender\n",
      "excited\n",
      "surprise\n",
      "disgust\n",
      "1548 1542 1542\n"
     ]
    }
   ],
   "source": [
    "total = 0\n",
    "all_data = {}\n",
    "all_emotions = defaultdict(set)\n",
    "for emotion, emoji in smileys.items():\n",
    "    with open('/home/ali/workspace/data/en/' + emotion + '.json', 'r') as f:\n",
    "        print(emotion)\n",
    "        past_data = json.load(f)\n",
    "    total += len(past_data)\n",
    "    all_data.update(past_data)\n",
    "    for key in past_data:\n",
    "        all_emotions[key].add(emotion)\n",
    "    \n",
    "print(total, len(all_data), len(all_emotions))"
   ]
  },
  {
   "cell_type": "code",
   "execution_count": null,
   "metadata": {},
   "outputs": [],
   "source": []
  }
 ],
 "metadata": {
  "kernelspec": {
   "display_name": "Python 3",
   "language": "python",
   "name": "python3"
  },
  "language_info": {
   "codemirror_mode": {
    "name": "ipython",
    "version": 3
   },
   "file_extension": ".py",
   "mimetype": "text/x-python",
   "name": "python",
   "nbconvert_exporter": "python",
   "pygments_lexer": "ipython3",
   "version": "3.4.3"
  }
 },
 "nbformat": 4,
 "nbformat_minor": 2
}
